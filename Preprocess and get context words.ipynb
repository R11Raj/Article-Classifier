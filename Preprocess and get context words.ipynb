{
 "cells": [
  {
   "cell_type": "markdown",
   "metadata": {},
   "source": [
    "# Import necessory libraries"
   ]
  },
  {
   "cell_type": "code",
   "execution_count": 1,
   "metadata": {},
   "outputs": [],
   "source": [
    "import pandas as pd\n",
    "import requests\n",
    "import time\n",
    "import nltk\n",
    "from nltk.corpus import wordnet\n",
    "import pickle\n",
    "# nltk.download('punkt')\n",
    "# nltk.download('averaged_perceptron_tagger')\n",
    "# nltk.download('wordnet')"
   ]
  },
  {
   "cell_type": "markdown",
   "metadata": {},
   "source": [
    "# Data preprocess function"
   ]
  },
  {
   "cell_type": "code",
   "execution_count": null,
   "metadata": {},
   "outputs": [],
   "source": [
    "def DataPreprocess(data):\n",
    "    is_noun = lambda pos: pos[:2] == 'NN'\n",
    "\n",
    "    def removespecial(s):\n",
    "        r=list(s)\n",
    "        for i in range(len(r)):\n",
    "            if not(r[i].isalpha() or r[i].isdigit()):\n",
    "                r[i]=' '\n",
    "        return \"\".join(r)\n",
    "\n",
    "    def preprocess(s):\n",
    "        t=s.split()\n",
    "        i=0\n",
    "        while i<len(t):\n",
    "            if len(t[i])==1 and t[i] in ['s','t']:\n",
    "                t[i-1]+=t[i]\n",
    "                t.pop(i)\n",
    "            else:\n",
    "                i+=1\n",
    "        return \" \".join(t)\n",
    "\n",
    "    def removesingle(s):\n",
    "        t=s.split()\n",
    "        i=0\n",
    "        while i<len(t):\n",
    "            t[i]=t[i].lower()\n",
    "            if len(t[i])==1 and t[i] not in ['i','a']:\n",
    "                t.pop(i)\n",
    "            else:\n",
    "                i+=1\n",
    "        return \" \".join(t)\n",
    "\n",
    "    nouns_title=[]\n",
    "    nouns_content=[]\n",
    "\n",
    "    for i in data.index:  \n",
    "        print(i)\n",
    "        try:\n",
    "            \n",
    "            s=removespecial(data['Content'][i])\n",
    "            \n",
    "            s=preprocess(s)\n",
    "            \n",
    "            s=removesingle(s)\n",
    "            \n",
    "            tokenized = nltk.word_tokenize(s)\n",
    "            #print(tokenized)\n",
    "            nouns1 = [word for (word, pos) in nltk.pos_tag(tokenized) if is_noun(pos)]\n",
    "\n",
    "\n",
    "            s=removespecial(data['Title'][i])\n",
    "            s=preprocess(s)\n",
    "            s=removesingle(s)\n",
    "            tokenized = nltk.word_tokenize(s)\n",
    "            nouns2 = [word for (word, pos) in nltk.pos_tag(tokenized) if is_noun(pos)]\n",
    "\n",
    "            nouns_content.append(nouns1)\n",
    "            nouns_title.append(nouns2)\n",
    "        except:\n",
    "            pass\n",
    "        \n",
    "    return nouns_title,nouns_content\n",
    "\n"
   ]
  },
  {
   "cell_type": "markdown",
   "metadata": {},
   "source": [
    "# Find context words function"
   ]
  },
  {
   "cell_type": "code",
   "execution_count": null,
   "metadata": {},
   "outputs": [],
   "source": [
    "def findContextWords(nouns_title,nouns_content):\n",
    "  context_words=[]\n",
    "  for i in range(len(nouns_content)):\n",
    "      sim=[]\n",
    "      nouns=nouns_title[i]\n",
    "      if len(nouns)==0:\n",
    "          pass\n",
    "      else:\n",
    "          for j in nouns_content[i]:\n",
    "              s=0\n",
    "              for n in nouns:\n",
    "                  syn1 = wordnet.synsets(j)\n",
    "                  syn2 = wordnet.synsets(n)\n",
    "                  for s1 in syn1:\n",
    "                      for s2 in syn2:\n",
    "                          if s1.wup_similarity(s2)!=None:\n",
    "                              s+=s1.wup_similarity(s2)\n",
    "              if s/len(nouns)>=1:\n",
    "                  context_words.append(j)\n",
    "      \n",
    "  return context_words\n"
   ]
  },
  {
   "cell_type": "markdown",
   "metadata": {},
   "source": [
    "## For V1 Data"
   ]
  },
  {
   "cell_type": "code",
   "execution_count": null,
   "metadata": {},
   "outputs": [],
   "source": [
    "for t in ['terror','cancer','crime','health']:\n",
    "    d=pd.read_csv('Train Data/NYTimes API Data/final'+t+'.csv')\n",
    "    \n",
    "    nouns_title,nouns_content=DataPreprocess(d)\n",
    "    context_words=findContextWords(nouns_title,nouns_content)\n",
    "    \n",
    "    with open('Context and Ngram/V1/context_words_'+t+'.pickle', 'wb') as f:\n",
    "        pickle.dump(context_words, f)\n",
    "    \n",
    "    print(t,'Completed')"
   ]
  },
  {
   "cell_type": "markdown",
   "metadata": {},
   "source": [
    "## For V2 Data"
   ]
  },
  {
   "cell_type": "code",
   "execution_count": null,
   "metadata": {},
   "outputs": [],
   "source": [
    "for t in ['terror','cancer','crime','health']:\n",
    "    d=pd.read_csv('Train Data/NYTimes API Data/final'+t+'.csv')\n",
    "    \n",
    "    if t=='crime':\n",
    "        d1=pd.read_csv('Train Data/Guardian API Data/train'+t+'.csv')\n",
    "        d=pd.concat([d,d1[:][:1500]])\n",
    "    elif t=='cancer':\n",
    "        d1=pd.read_csv('Train Data/Guardian API Data/train'+t+'.csv')\n",
    "        d=pd.concat([d,d1[:][:500]])\n",
    "    elif t=='terror':\n",
    "        d1=pd.read_csv('Train Data/Guardian API Data/train'+t+'.csv')\n",
    "        d=pd.concat([d,d1[:][:500]])\n",
    "    \n",
    "    nouns_title,nouns_content=DataPreprocess(d)\n",
    "    context_words=findContextWords(nouns_title,nouns_content)\n",
    "    \n",
    "    with open('Context and Ngram/V2/context_words_train'+t+'.pickle', 'wb') as f:\n",
    "        pickle.dump(context_words, f)\n",
    "    \n",
    "    print(t,'Completed')"
   ]
  }
 ],
 "metadata": {
  "kernelspec": {
   "display_name": "Python 3",
   "language": "python",
   "name": "python3"
  },
  "language_info": {
   "codemirror_mode": {
    "name": "ipython",
    "version": 3
   },
   "file_extension": ".py",
   "mimetype": "text/x-python",
   "name": "python",
   "nbconvert_exporter": "python",
   "pygments_lexer": "ipython3",
   "version": "3.7.4"
  }
 },
 "nbformat": 4,
 "nbformat_minor": 2
}
